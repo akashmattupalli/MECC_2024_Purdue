{
 "cells": [
  {
   "cell_type": "code",
   "execution_count": 1,
   "metadata": {},
   "outputs": [
    {
     "name": "stdout",
     "output_type": "stream",
     "text": [
      "Requirement already satisfied: capytaine in c:\\users\\akash\\appdata\\local\\programs\\python\\python39\\lib\\site-packages (2.0)Note: you may need to restart the kernel to use updated packages.\n",
      "\n",
      "Requirement already satisfied: numpy in c:\\users\\akash\\appdata\\local\\programs\\python\\python39\\lib\\site-packages (from capytaine) (1.26.3)\n",
      "Requirement already satisfied: pandas>=1.3 in c:\\users\\akash\\appdata\\local\\programs\\python\\python39\\lib\\site-packages (from capytaine) (2.2.0)\n",
      "Requirement already satisfied: xarray in c:\\users\\akash\\appdata\\local\\programs\\python\\python39\\lib\\site-packages (from capytaine) (2024.1.1)\n",
      "Requirement already satisfied: scipy in c:\\users\\akash\\appdata\\local\\programs\\python\\python39\\lib\\site-packages (from capytaine) (1.12.0)\n",
      "Requirement already satisfied: pytz>=2020.1 in c:\\users\\akash\\appdata\\local\\programs\\python\\python39\\lib\\site-packages (from pandas>=1.3->capytaine) (2023.4)\n",
      "Requirement already satisfied: python-dateutil>=2.8.2 in c:\\users\\akash\\appdata\\roaming\\python\\python39\\site-packages (from pandas>=1.3->capytaine) (2.8.2)\n",
      "Requirement already satisfied: tzdata>=2022.7 in c:\\users\\akash\\appdata\\local\\programs\\python\\python39\\lib\\site-packages (from pandas>=1.3->capytaine) (2023.4)\n",
      "Requirement already satisfied: six>=1.5 in c:\\users\\akash\\appdata\\roaming\\python\\python39\\site-packages (from python-dateutil>=2.8.2->pandas>=1.3->capytaine) (1.16.0)\n",
      "Requirement already satisfied: packaging>=22 in c:\\users\\akash\\appdata\\roaming\\python\\python39\\site-packages (from xarray->capytaine) (23.2)\n"
     ]
    },
    {
     "name": "stderr",
     "output_type": "stream",
     "text": [
      "WARNING: You are using pip version 21.1.1; however, version 24.0 is available.\n",
      "You should consider upgrading via the 'c:\\Users\\akash\\AppData\\Local\\Programs\\Python\\Python39\\python.exe -m pip install --upgrade pip' command.\n"
     ]
    }
   ],
   "source": [
    "pip install capytaine   "
   ]
  },
  {
   "cell_type": "code",
   "execution_count": 2,
   "metadata": {},
   "outputs": [],
   "source": [
    "import capytaine as cpt\n",
    "import logging\n",
    "import vtk\n",
    "import numpy as np \n",
    "import xarray as xr\n",
    "logging.basicConfig(level=logging.INFO)"
   ]
  },
  {
   "cell_type": "code",
   "execution_count": 3,
   "metadata": {},
   "outputs": [
    {
     "name": "stderr",
     "output_type": "stream",
     "text": [
      "INFO:capytaine.bodies.bodies:New floating body: buoy6.dat.\n",
      "INFO:capytaine.bodies.bodies:Clipping buoy6.dat with respect to Plane(normal=[0. 0. 1.], point=[0. 0. 0.])\n",
      "INFO:capytaine.meshes.clipper:Clipping buoy6.dat_mesh by Plane(normal=[0. 0. 1.], point=[0. 0. 0.]): no action.\n",
      "INFO:capytaine.bodies.bodies:The rotation dof Roll has been initialized around the point: buoy6.dat.center_of_mass = (0, 0, 0)\n",
      "INFO:capytaine.bodies.bodies:The rotation dof Pitch has been initialized around the point: buoy6.dat.center_of_mass = (0, 0, 0)\n",
      "INFO:capytaine.bodies.bodies:The rotation dof Yaw has been initialized around the point: buoy6.dat.center_of_mass = (0, 0, 0)\n"
     ]
    }
   ],
   "source": [
    "body = cpt.FloatingBody.from_file('buoy6.dat')\n",
    "body.center_of_mass = (0,0,0)\n",
    "body.keep_immersed_part()\n",
    "body.add_all_rigid_body_dofs()"
   ]
  },
  {
   "cell_type": "code",
   "execution_count": 4,
   "metadata": {},
   "outputs": [],
   "source": [
    "body.show()"
   ]
  },
  {
   "cell_type": "code",
   "execution_count": 10,
   "metadata": {},
   "outputs": [
    {
     "data": {
      "text/plain": [
       "'\\nproblems = [cpt.RadiationProblem(body=body,\\n                              radiating_dof=dof,\\n                              omega=w,\\n                              sea_bottom=-np.infty,\\n                              g=9.81,\\n                              rho=1025.0)\\n                              for dof in body.dofs for w in freq]\\nproblems += [cpt.DiffractionProblem(body=body,\\n                                omega=w,\\n                                wave_direction=heading,\\n                                sea_bottom=-np.infty,\\n                                g=9.81,\\n                                rho=1025.0)\\n                                for w in freq for heading in directions]\\n'"
      ]
     },
     "execution_count": 10,
     "metadata": {},
     "output_type": "execute_result"
    }
   ],
   "source": [
    "freq = np.linspace(0.1,1,10)\n",
    "directions = np.linspace(0,np.pi/2,2)\n",
    "\n",
    "test_matrix = xr.Dataset(coords={\n",
    "    'omega': freq,\n",
    "    'wave_direction': directions,\n",
    "    'radiating_dof': list(body.dofs),\n",
    "    'water_depth': [np.infty],\n",
    "    })\n",
    "'''\n",
    "problems = [cpt.RadiationProblem(body=body,\n",
    "                              radiating_dof=dof,\n",
    "                              omega=w,\n",
    "                              sea_bottom=-np.infty,\n",
    "                              g=9.81,\n",
    "                              rho=1025.0)\n",
    "                              for dof in body.dofs for w in freq]\n",
    "problems += [cpt.DiffractionProblem(body=body,\n",
    "                                omega=w,\n",
    "                                wave_direction=heading,\n",
    "                                sea_bottom=-np.infty,\n",
    "                                g=9.81,\n",
    "                                rho=1025.0)\n",
    "                                for w in freq for heading in directions]\n",
    "'''"
   ]
  },
  {
   "cell_type": "code",
   "execution_count": 11,
   "metadata": {},
   "outputs": [
    {
     "name": "stderr",
     "output_type": "stream",
     "text": [
      "c:\\Users\\akash\\AppData\\Local\\Programs\\Python\\Python39\\lib\\site-packages\\capytaine\\io\\xarray.py:68: FutureWarning: The return type of `Dataset.dims` will be changed to return a set of dimension names in future, in order to be more consistent with `DataArray.dims`. To access a mapping from dimension names to lengths, please use `Dataset.sizes`.\n",
      "  keys_in_dataset = set(dataset.dims.keys())\n",
      "INFO:capytaine.bem.solver:Solve DiffractionProblem(body=buoy6.dat, omega=0.100, water_depth=inf, wave_direction=0.000).\n",
      "INFO:capytaine.bem.solver:Solve DiffractionProblem(body=buoy6.dat, omega=0.100, water_depth=inf, wave_direction=1.571).\n",
      "INFO:capytaine.bem.solver:Solve RadiationProblem(body=buoy6.dat, omega=0.100, water_depth=inf, radiating_dof='Surge').\n",
      "INFO:capytaine.bem.solver:Solve RadiationProblem(body=buoy6.dat, omega=0.100, water_depth=inf, radiating_dof='Sway').\n",
      "INFO:capytaine.bem.solver:Solve RadiationProblem(body=buoy6.dat, omega=0.100, water_depth=inf, radiating_dof='Heave').\n",
      "INFO:capytaine.bem.solver:Solve RadiationProblem(body=buoy6.dat, omega=0.100, water_depth=inf, radiating_dof='Roll').\n",
      "INFO:capytaine.bem.solver:Solve RadiationProblem(body=buoy6.dat, omega=0.100, water_depth=inf, radiating_dof='Pitch').\n",
      "INFO:capytaine.bem.solver:Solve RadiationProblem(body=buoy6.dat, omega=0.100, water_depth=inf, radiating_dof='Yaw').\n",
      "INFO:capytaine.bem.solver:Solve DiffractionProblem(body=buoy6.dat, omega=0.200, water_depth=inf, wave_direction=0.000).\n",
      "INFO:capytaine.bem.solver:Solve DiffractionProblem(body=buoy6.dat, omega=0.200, water_depth=inf, wave_direction=1.571).\n",
      "INFO:capytaine.bem.solver:Solve RadiationProblem(body=buoy6.dat, omega=0.200, water_depth=inf, radiating_dof='Surge').\n",
      "INFO:capytaine.bem.solver:Solve RadiationProblem(body=buoy6.dat, omega=0.200, water_depth=inf, radiating_dof='Sway').\n",
      "INFO:capytaine.bem.solver:Solve RadiationProblem(body=buoy6.dat, omega=0.200, water_depth=inf, radiating_dof='Heave').\n",
      "INFO:capytaine.bem.solver:Solve RadiationProblem(body=buoy6.dat, omega=0.200, water_depth=inf, radiating_dof='Roll').\n",
      "INFO:capytaine.bem.solver:Solve RadiationProblem(body=buoy6.dat, omega=0.200, water_depth=inf, radiating_dof='Pitch').\n",
      "INFO:capytaine.bem.solver:Solve RadiationProblem(body=buoy6.dat, omega=0.200, water_depth=inf, radiating_dof='Yaw').\n",
      "INFO:capytaine.bem.solver:Solve DiffractionProblem(body=buoy6.dat, omega=0.300, water_depth=inf, wave_direction=0.000).\n",
      "INFO:capytaine.bem.solver:Solve DiffractionProblem(body=buoy6.dat, omega=0.300, water_depth=inf, wave_direction=1.571).\n",
      "INFO:capytaine.bem.solver:Solve RadiationProblem(body=buoy6.dat, omega=0.300, water_depth=inf, radiating_dof='Surge').\n",
      "INFO:capytaine.bem.solver:Solve RadiationProblem(body=buoy6.dat, omega=0.300, water_depth=inf, radiating_dof='Sway').\n",
      "INFO:capytaine.bem.solver:Solve RadiationProblem(body=buoy6.dat, omega=0.300, water_depth=inf, radiating_dof='Heave').\n",
      "INFO:capytaine.bem.solver:Solve RadiationProblem(body=buoy6.dat, omega=0.300, water_depth=inf, radiating_dof='Roll').\n",
      "INFO:capytaine.bem.solver:Solve RadiationProblem(body=buoy6.dat, omega=0.300, water_depth=inf, radiating_dof='Pitch').\n",
      "INFO:capytaine.bem.solver:Solve RadiationProblem(body=buoy6.dat, omega=0.300, water_depth=inf, radiating_dof='Yaw').\n",
      "INFO:capytaine.bem.solver:Solve DiffractionProblem(body=buoy6.dat, omega=0.400, water_depth=inf, wave_direction=0.000).\n",
      "INFO:capytaine.bem.solver:Solve DiffractionProblem(body=buoy6.dat, omega=0.400, water_depth=inf, wave_direction=1.571).\n",
      "INFO:capytaine.bem.solver:Solve RadiationProblem(body=buoy6.dat, omega=0.400, water_depth=inf, radiating_dof='Surge').\n",
      "INFO:capytaine.bem.solver:Solve RadiationProblem(body=buoy6.dat, omega=0.400, water_depth=inf, radiating_dof='Sway').\n",
      "INFO:capytaine.bem.solver:Solve RadiationProblem(body=buoy6.dat, omega=0.400, water_depth=inf, radiating_dof='Heave').\n",
      "INFO:capytaine.bem.solver:Solve RadiationProblem(body=buoy6.dat, omega=0.400, water_depth=inf, radiating_dof='Roll').\n",
      "INFO:capytaine.bem.solver:Solve RadiationProblem(body=buoy6.dat, omega=0.400, water_depth=inf, radiating_dof='Pitch').\n",
      "INFO:capytaine.bem.solver:Solve RadiationProblem(body=buoy6.dat, omega=0.400, water_depth=inf, radiating_dof='Yaw').\n",
      "INFO:capytaine.bem.solver:Solve DiffractionProblem(body=buoy6.dat, omega=0.500, water_depth=inf, wave_direction=0.000).\n",
      "INFO:capytaine.bem.solver:Solve DiffractionProblem(body=buoy6.dat, omega=0.500, water_depth=inf, wave_direction=1.571).\n",
      "INFO:capytaine.bem.solver:Solve RadiationProblem(body=buoy6.dat, omega=0.500, water_depth=inf, radiating_dof='Surge').\n",
      "INFO:capytaine.bem.solver:Solve RadiationProblem(body=buoy6.dat, omega=0.500, water_depth=inf, radiating_dof='Sway').\n",
      "INFO:capytaine.bem.solver:Solve RadiationProblem(body=buoy6.dat, omega=0.500, water_depth=inf, radiating_dof='Heave').\n",
      "INFO:capytaine.bem.solver:Solve RadiationProblem(body=buoy6.dat, omega=0.500, water_depth=inf, radiating_dof='Roll').\n",
      "INFO:capytaine.bem.solver:Solve RadiationProblem(body=buoy6.dat, omega=0.500, water_depth=inf, radiating_dof='Pitch').\n",
      "INFO:capytaine.bem.solver:Solve RadiationProblem(body=buoy6.dat, omega=0.500, water_depth=inf, radiating_dof='Yaw').\n",
      "INFO:capytaine.bem.solver:Solve DiffractionProblem(body=buoy6.dat, omega=0.600, water_depth=inf, wave_direction=0.000).\n",
      "INFO:capytaine.bem.solver:Solve DiffractionProblem(body=buoy6.dat, omega=0.600, water_depth=inf, wave_direction=1.571).\n",
      "INFO:capytaine.bem.solver:Solve RadiationProblem(body=buoy6.dat, omega=0.600, water_depth=inf, radiating_dof='Surge').\n",
      "INFO:capytaine.bem.solver:Solve RadiationProblem(body=buoy6.dat, omega=0.600, water_depth=inf, radiating_dof='Sway').\n",
      "INFO:capytaine.bem.solver:Solve RadiationProblem(body=buoy6.dat, omega=0.600, water_depth=inf, radiating_dof='Heave').\n",
      "INFO:capytaine.bem.solver:Solve RadiationProblem(body=buoy6.dat, omega=0.600, water_depth=inf, radiating_dof='Roll').\n",
      "INFO:capytaine.bem.solver:Solve RadiationProblem(body=buoy6.dat, omega=0.600, water_depth=inf, radiating_dof='Pitch').\n",
      "INFO:capytaine.bem.solver:Solve RadiationProblem(body=buoy6.dat, omega=0.600, water_depth=inf, radiating_dof='Yaw').\n",
      "INFO:capytaine.bem.solver:Solve DiffractionProblem(body=buoy6.dat, omega=0.700, water_depth=inf, wave_direction=0.000).\n",
      "INFO:capytaine.bem.solver:Solve DiffractionProblem(body=buoy6.dat, omega=0.700, water_depth=inf, wave_direction=1.571).\n",
      "INFO:capytaine.bem.solver:Solve RadiationProblem(body=buoy6.dat, omega=0.700, water_depth=inf, radiating_dof='Surge').\n",
      "INFO:capytaine.bem.solver:Solve RadiationProblem(body=buoy6.dat, omega=0.700, water_depth=inf, radiating_dof='Sway').\n",
      "INFO:capytaine.bem.solver:Solve RadiationProblem(body=buoy6.dat, omega=0.700, water_depth=inf, radiating_dof='Heave').\n",
      "INFO:capytaine.bem.solver:Solve RadiationProblem(body=buoy6.dat, omega=0.700, water_depth=inf, radiating_dof='Roll').\n",
      "INFO:capytaine.bem.solver:Solve RadiationProblem(body=buoy6.dat, omega=0.700, water_depth=inf, radiating_dof='Pitch').\n",
      "INFO:capytaine.bem.solver:Solve RadiationProblem(body=buoy6.dat, omega=0.700, water_depth=inf, radiating_dof='Yaw').\n",
      "INFO:capytaine.bem.solver:Solve DiffractionProblem(body=buoy6.dat, omega=0.800, water_depth=inf, wave_direction=0.000).\n",
      "INFO:capytaine.bem.solver:Solve DiffractionProblem(body=buoy6.dat, omega=0.800, water_depth=inf, wave_direction=1.571).\n",
      "INFO:capytaine.bem.solver:Solve RadiationProblem(body=buoy6.dat, omega=0.800, water_depth=inf, radiating_dof='Surge').\n",
      "INFO:capytaine.bem.solver:Solve RadiationProblem(body=buoy6.dat, omega=0.800, water_depth=inf, radiating_dof='Sway').\n",
      "INFO:capytaine.bem.solver:Solve RadiationProblem(body=buoy6.dat, omega=0.800, water_depth=inf, radiating_dof='Heave').\n",
      "INFO:capytaine.bem.solver:Solve RadiationProblem(body=buoy6.dat, omega=0.800, water_depth=inf, radiating_dof='Roll').\n",
      "INFO:capytaine.bem.solver:Solve RadiationProblem(body=buoy6.dat, omega=0.800, water_depth=inf, radiating_dof='Pitch').\n",
      "INFO:capytaine.bem.solver:Solve RadiationProblem(body=buoy6.dat, omega=0.800, water_depth=inf, radiating_dof='Yaw').\n",
      "INFO:capytaine.bem.solver:Solve DiffractionProblem(body=buoy6.dat, omega=0.900, water_depth=inf, wave_direction=0.000).\n",
      "INFO:capytaine.bem.solver:Solve DiffractionProblem(body=buoy6.dat, omega=0.900, water_depth=inf, wave_direction=1.571).\n",
      "INFO:capytaine.bem.solver:Solve RadiationProblem(body=buoy6.dat, omega=0.900, water_depth=inf, radiating_dof='Surge').\n",
      "INFO:capytaine.bem.solver:Solve RadiationProblem(body=buoy6.dat, omega=0.900, water_depth=inf, radiating_dof='Sway').\n",
      "INFO:capytaine.bem.solver:Solve RadiationProblem(body=buoy6.dat, omega=0.900, water_depth=inf, radiating_dof='Heave').\n",
      "INFO:capytaine.bem.solver:Solve RadiationProblem(body=buoy6.dat, omega=0.900, water_depth=inf, radiating_dof='Roll').\n",
      "INFO:capytaine.bem.solver:Solve RadiationProblem(body=buoy6.dat, omega=0.900, water_depth=inf, radiating_dof='Pitch').\n",
      "INFO:capytaine.bem.solver:Solve RadiationProblem(body=buoy6.dat, omega=0.900, water_depth=inf, radiating_dof='Yaw').\n",
      "INFO:capytaine.bem.solver:Solve DiffractionProblem(body=buoy6.dat, omega=1.000, water_depth=inf, wave_direction=0.000).\n",
      "INFO:capytaine.bem.solver:Solve DiffractionProblem(body=buoy6.dat, omega=1.000, water_depth=inf, wave_direction=1.571).\n",
      "INFO:capytaine.bem.solver:Solve RadiationProblem(body=buoy6.dat, omega=1.000, water_depth=inf, radiating_dof='Surge').\n",
      "INFO:capytaine.bem.solver:Solve RadiationProblem(body=buoy6.dat, omega=1.000, water_depth=inf, radiating_dof='Sway').\n",
      "INFO:capytaine.bem.solver:Solve RadiationProblem(body=buoy6.dat, omega=1.000, water_depth=inf, radiating_dof='Heave').\n",
      "INFO:capytaine.bem.solver:Solve RadiationProblem(body=buoy6.dat, omega=1.000, water_depth=inf, radiating_dof='Roll').\n",
      "INFO:capytaine.bem.solver:Solve RadiationProblem(body=buoy6.dat, omega=1.000, water_depth=inf, radiating_dof='Pitch').\n",
      "INFO:capytaine.bem.solver:Solve RadiationProblem(body=buoy6.dat, omega=1.000, water_depth=inf, radiating_dof='Yaw').\n"
     ]
    }
   ],
   "source": [
    "solver = cpt.BEMSolver()\n",
    "dataset = solver.fill_dataset(test_matrix, [body], hydrostatics=False)"
   ]
  },
  {
   "cell_type": "code",
   "execution_count": 12,
   "metadata": {},
   "outputs": [
    {
     "name": "stderr",
     "output_type": "stream",
     "text": [
      "INFO:capytaine.bem.solver:Solve RadiationProblem(body=buoy6.dat, omega=0.100, water_depth=inf, radiating_dof='Surge', rho=1025.0).\n",
      "INFO:capytaine.bem.solver:Solve RadiationProblem(body=buoy6.dat, omega=0.100, water_depth=inf, radiating_dof='Sway', rho=1025.0).\n",
      "INFO:capytaine.bem.solver:Solve RadiationProblem(body=buoy6.dat, omega=0.100, water_depth=inf, radiating_dof='Heave', rho=1025.0).\n",
      "INFO:capytaine.bem.solver:Solve RadiationProblem(body=buoy6.dat, omega=0.100, water_depth=inf, radiating_dof='Roll', rho=1025.0).\n",
      "INFO:capytaine.bem.solver:Solve RadiationProblem(body=buoy6.dat, omega=0.100, water_depth=inf, radiating_dof='Pitch', rho=1025.0).\n",
      "INFO:capytaine.bem.solver:Solve RadiationProblem(body=buoy6.dat, omega=0.100, water_depth=inf, radiating_dof='Yaw', rho=1025.0).\n",
      "INFO:capytaine.bem.solver:Solve DiffractionProblem(body=buoy6.dat, omega=0.100, water_depth=inf, wave_direction=0.000, rho=1025.0).\n",
      "INFO:capytaine.bem.solver:Solve DiffractionProblem(body=buoy6.dat, omega=0.100, water_depth=inf, wave_direction=1.571, rho=1025.0).\n",
      "INFO:capytaine.bem.solver:Solve RadiationProblem(body=buoy6.dat, omega=0.200, water_depth=inf, radiating_dof='Surge', rho=1025.0).\n",
      "INFO:capytaine.bem.solver:Solve RadiationProblem(body=buoy6.dat, omega=0.200, water_depth=inf, radiating_dof='Sway', rho=1025.0).\n",
      "INFO:capytaine.bem.solver:Solve RadiationProblem(body=buoy6.dat, omega=0.200, water_depth=inf, radiating_dof='Heave', rho=1025.0).\n",
      "INFO:capytaine.bem.solver:Solve RadiationProblem(body=buoy6.dat, omega=0.200, water_depth=inf, radiating_dof='Roll', rho=1025.0).\n",
      "INFO:capytaine.bem.solver:Solve RadiationProblem(body=buoy6.dat, omega=0.200, water_depth=inf, radiating_dof='Pitch', rho=1025.0).\n",
      "INFO:capytaine.bem.solver:Solve RadiationProblem(body=buoy6.dat, omega=0.200, water_depth=inf, radiating_dof='Yaw', rho=1025.0).\n",
      "INFO:capytaine.bem.solver:Solve DiffractionProblem(body=buoy6.dat, omega=0.200, water_depth=inf, wave_direction=0.000, rho=1025.0).\n",
      "INFO:capytaine.bem.solver:Solve DiffractionProblem(body=buoy6.dat, omega=0.200, water_depth=inf, wave_direction=1.571, rho=1025.0).\n",
      "INFO:capytaine.bem.solver:Solve RadiationProblem(body=buoy6.dat, omega=0.300, water_depth=inf, radiating_dof='Surge', rho=1025.0).\n",
      "INFO:capytaine.bem.solver:Solve RadiationProblem(body=buoy6.dat, omega=0.300, water_depth=inf, radiating_dof='Sway', rho=1025.0).\n",
      "INFO:capytaine.bem.solver:Solve RadiationProblem(body=buoy6.dat, omega=0.300, water_depth=inf, radiating_dof='Heave', rho=1025.0).\n",
      "INFO:capytaine.bem.solver:Solve RadiationProblem(body=buoy6.dat, omega=0.300, water_depth=inf, radiating_dof='Roll', rho=1025.0).\n",
      "INFO:capytaine.bem.solver:Solve RadiationProblem(body=buoy6.dat, omega=0.300, water_depth=inf, radiating_dof='Pitch', rho=1025.0).\n",
      "INFO:capytaine.bem.solver:Solve RadiationProblem(body=buoy6.dat, omega=0.300, water_depth=inf, radiating_dof='Yaw', rho=1025.0).\n",
      "INFO:capytaine.bem.solver:Solve DiffractionProblem(body=buoy6.dat, omega=0.300, water_depth=inf, wave_direction=0.000, rho=1025.0).\n",
      "INFO:capytaine.bem.solver:Solve DiffractionProblem(body=buoy6.dat, omega=0.300, water_depth=inf, wave_direction=1.571, rho=1025.0).\n",
      "INFO:capytaine.bem.solver:Solve RadiationProblem(body=buoy6.dat, omega=0.400, water_depth=inf, radiating_dof='Surge', rho=1025.0).\n",
      "INFO:capytaine.bem.solver:Solve RadiationProblem(body=buoy6.dat, omega=0.400, water_depth=inf, radiating_dof='Sway', rho=1025.0).\n",
      "INFO:capytaine.bem.solver:Solve RadiationProblem(body=buoy6.dat, omega=0.400, water_depth=inf, radiating_dof='Heave', rho=1025.0).\n",
      "INFO:capytaine.bem.solver:Solve RadiationProblem(body=buoy6.dat, omega=0.400, water_depth=inf, radiating_dof='Roll', rho=1025.0).\n",
      "INFO:capytaine.bem.solver:Solve RadiationProblem(body=buoy6.dat, omega=0.400, water_depth=inf, radiating_dof='Pitch', rho=1025.0).\n",
      "INFO:capytaine.bem.solver:Solve RadiationProblem(body=buoy6.dat, omega=0.400, water_depth=inf, radiating_dof='Yaw', rho=1025.0).\n",
      "INFO:capytaine.bem.solver:Solve DiffractionProblem(body=buoy6.dat, omega=0.400, water_depth=inf, wave_direction=0.000, rho=1025.0).\n",
      "INFO:capytaine.bem.solver:Solve DiffractionProblem(body=buoy6.dat, omega=0.400, water_depth=inf, wave_direction=1.571, rho=1025.0).\n",
      "INFO:capytaine.bem.solver:Solve RadiationProblem(body=buoy6.dat, omega=0.500, water_depth=inf, radiating_dof='Surge', rho=1025.0).\n",
      "INFO:capytaine.bem.solver:Solve RadiationProblem(body=buoy6.dat, omega=0.500, water_depth=inf, radiating_dof='Sway', rho=1025.0).\n",
      "INFO:capytaine.bem.solver:Solve RadiationProblem(body=buoy6.dat, omega=0.500, water_depth=inf, radiating_dof='Heave', rho=1025.0).\n",
      "INFO:capytaine.bem.solver:Solve RadiationProblem(body=buoy6.dat, omega=0.500, water_depth=inf, radiating_dof='Roll', rho=1025.0).\n",
      "INFO:capytaine.bem.solver:Solve RadiationProblem(body=buoy6.dat, omega=0.500, water_depth=inf, radiating_dof='Pitch', rho=1025.0).\n",
      "INFO:capytaine.bem.solver:Solve RadiationProblem(body=buoy6.dat, omega=0.500, water_depth=inf, radiating_dof='Yaw', rho=1025.0).\n",
      "INFO:capytaine.bem.solver:Solve DiffractionProblem(body=buoy6.dat, omega=0.500, water_depth=inf, wave_direction=0.000, rho=1025.0).\n",
      "INFO:capytaine.bem.solver:Solve DiffractionProblem(body=buoy6.dat, omega=0.500, water_depth=inf, wave_direction=1.571, rho=1025.0).\n",
      "INFO:capytaine.bem.solver:Solve RadiationProblem(body=buoy6.dat, omega=0.600, water_depth=inf, radiating_dof='Surge', rho=1025.0).\n",
      "INFO:capytaine.bem.solver:Solve RadiationProblem(body=buoy6.dat, omega=0.600, water_depth=inf, radiating_dof='Sway', rho=1025.0).\n",
      "INFO:capytaine.bem.solver:Solve RadiationProblem(body=buoy6.dat, omega=0.600, water_depth=inf, radiating_dof='Heave', rho=1025.0).\n",
      "INFO:capytaine.bem.solver:Solve RadiationProblem(body=buoy6.dat, omega=0.600, water_depth=inf, radiating_dof='Roll', rho=1025.0).\n",
      "INFO:capytaine.bem.solver:Solve RadiationProblem(body=buoy6.dat, omega=0.600, water_depth=inf, radiating_dof='Pitch', rho=1025.0).\n",
      "INFO:capytaine.bem.solver:Solve RadiationProblem(body=buoy6.dat, omega=0.600, water_depth=inf, radiating_dof='Yaw', rho=1025.0).\n",
      "INFO:capytaine.bem.solver:Solve DiffractionProblem(body=buoy6.dat, omega=0.600, water_depth=inf, wave_direction=0.000, rho=1025.0).\n",
      "INFO:capytaine.bem.solver:Solve DiffractionProblem(body=buoy6.dat, omega=0.600, water_depth=inf, wave_direction=1.571, rho=1025.0).\n",
      "INFO:capytaine.bem.solver:Solve RadiationProblem(body=buoy6.dat, omega=0.700, water_depth=inf, radiating_dof='Surge', rho=1025.0).\n",
      "INFO:capytaine.bem.solver:Solve RadiationProblem(body=buoy6.dat, omega=0.700, water_depth=inf, radiating_dof='Sway', rho=1025.0).\n",
      "INFO:capytaine.bem.solver:Solve RadiationProblem(body=buoy6.dat, omega=0.700, water_depth=inf, radiating_dof='Heave', rho=1025.0).\n",
      "INFO:capytaine.bem.solver:Solve RadiationProblem(body=buoy6.dat, omega=0.700, water_depth=inf, radiating_dof='Roll', rho=1025.0).\n",
      "INFO:capytaine.bem.solver:Solve RadiationProblem(body=buoy6.dat, omega=0.700, water_depth=inf, radiating_dof='Pitch', rho=1025.0).\n",
      "INFO:capytaine.bem.solver:Solve RadiationProblem(body=buoy6.dat, omega=0.700, water_depth=inf, radiating_dof='Yaw', rho=1025.0).\n",
      "INFO:capytaine.bem.solver:Solve DiffractionProblem(body=buoy6.dat, omega=0.700, water_depth=inf, wave_direction=0.000, rho=1025.0).\n",
      "INFO:capytaine.bem.solver:Solve DiffractionProblem(body=buoy6.dat, omega=0.700, water_depth=inf, wave_direction=1.571, rho=1025.0).\n",
      "INFO:capytaine.bem.solver:Solve RadiationProblem(body=buoy6.dat, omega=0.800, water_depth=inf, radiating_dof='Surge', rho=1025.0).\n",
      "INFO:capytaine.bem.solver:Solve RadiationProblem(body=buoy6.dat, omega=0.800, water_depth=inf, radiating_dof='Sway', rho=1025.0).\n",
      "INFO:capytaine.bem.solver:Solve RadiationProblem(body=buoy6.dat, omega=0.800, water_depth=inf, radiating_dof='Heave', rho=1025.0).\n",
      "INFO:capytaine.bem.solver:Solve RadiationProblem(body=buoy6.dat, omega=0.800, water_depth=inf, radiating_dof='Roll', rho=1025.0).\n",
      "INFO:capytaine.bem.solver:Solve RadiationProblem(body=buoy6.dat, omega=0.800, water_depth=inf, radiating_dof='Pitch', rho=1025.0).\n",
      "INFO:capytaine.bem.solver:Solve RadiationProblem(body=buoy6.dat, omega=0.800, water_depth=inf, radiating_dof='Yaw', rho=1025.0).\n",
      "INFO:capytaine.bem.solver:Solve DiffractionProblem(body=buoy6.dat, omega=0.800, water_depth=inf, wave_direction=0.000, rho=1025.0).\n",
      "INFO:capytaine.bem.solver:Solve DiffractionProblem(body=buoy6.dat, omega=0.800, water_depth=inf, wave_direction=1.571, rho=1025.0).\n",
      "INFO:capytaine.bem.solver:Solve RadiationProblem(body=buoy6.dat, omega=0.900, water_depth=inf, radiating_dof='Surge', rho=1025.0).\n",
      "INFO:capytaine.bem.solver:Solve RadiationProblem(body=buoy6.dat, omega=0.900, water_depth=inf, radiating_dof='Sway', rho=1025.0).\n",
      "INFO:capytaine.bem.solver:Solve RadiationProblem(body=buoy6.dat, omega=0.900, water_depth=inf, radiating_dof='Heave', rho=1025.0).\n",
      "INFO:capytaine.bem.solver:Solve RadiationProblem(body=buoy6.dat, omega=0.900, water_depth=inf, radiating_dof='Roll', rho=1025.0).\n",
      "INFO:capytaine.bem.solver:Solve RadiationProblem(body=buoy6.dat, omega=0.900, water_depth=inf, radiating_dof='Pitch', rho=1025.0).\n",
      "INFO:capytaine.bem.solver:Solve RadiationProblem(body=buoy6.dat, omega=0.900, water_depth=inf, radiating_dof='Yaw', rho=1025.0).\n",
      "INFO:capytaine.bem.solver:Solve DiffractionProblem(body=buoy6.dat, omega=0.900, water_depth=inf, wave_direction=0.000, rho=1025.0).\n",
      "INFO:capytaine.bem.solver:Solve DiffractionProblem(body=buoy6.dat, omega=0.900, water_depth=inf, wave_direction=1.571, rho=1025.0).\n",
      "INFO:capytaine.bem.solver:Solve RadiationProblem(body=buoy6.dat, omega=1.000, water_depth=inf, radiating_dof='Surge', rho=1025.0).\n",
      "INFO:capytaine.bem.solver:Solve RadiationProblem(body=buoy6.dat, omega=1.000, water_depth=inf, radiating_dof='Sway', rho=1025.0).\n",
      "INFO:capytaine.bem.solver:Solve RadiationProblem(body=buoy6.dat, omega=1.000, water_depth=inf, radiating_dof='Heave', rho=1025.0).\n",
      "INFO:capytaine.bem.solver:Solve RadiationProblem(body=buoy6.dat, omega=1.000, water_depth=inf, radiating_dof='Roll', rho=1025.0).\n",
      "INFO:capytaine.bem.solver:Solve RadiationProblem(body=buoy6.dat, omega=1.000, water_depth=inf, radiating_dof='Pitch', rho=1025.0).\n",
      "INFO:capytaine.bem.solver:Solve RadiationProblem(body=buoy6.dat, omega=1.000, water_depth=inf, radiating_dof='Yaw', rho=1025.0).\n",
      "INFO:capytaine.bem.solver:Solve DiffractionProblem(body=buoy6.dat, omega=1.000, water_depth=inf, wave_direction=0.000, rho=1025.0).\n",
      "INFO:capytaine.bem.solver:Solve DiffractionProblem(body=buoy6.dat, omega=1.000, water_depth=inf, wave_direction=1.571, rho=1025.0).\n"
     ]
    }
   ],
   "source": [
    "results = [solver.solve(problem, keep_details=True) for problem in sorted(problems)]\n",
    "capyData = cpt.assemble_dataset(results, hydrostatics=False)"
   ]
  },
  {
   "cell_type": "code",
   "execution_count": 13,
   "metadata": {},
   "outputs": [],
   "source": [
    "ncFName = 'demo.nc'\n",
    "cpt.io.xarray.separate_complex_values(capyData).to_netcdf(ncFName)"
   ]
  },
  {
   "cell_type": "code",
   "execution_count": 14,
   "metadata": {},
   "outputs": [
    {
     "name": "stderr",
     "output_type": "stream",
     "text": [
      "INFO:capytaine.bodies.bodies:Clipping buoy6.dat with respect to Plane(normal=[0. 0. 1.], point=[0. 0. 0.])\n",
      "INFO:capytaine.meshes.clipper:Clipping buoy6.dat_mesh by Plane(normal=[0. 0. 1.], point=[0. 0. 0.]): no action.\n"
     ]
    },
    {
     "name": "stderr",
     "output_type": "stream",
     "text": [
      "WARNING:capytaine.io.legacy:Exporting problem in already existing directory: static.dat\n",
      "             You might be overwriting existing files!\n"
     ]
    }
   ],
   "source": [
    "hydrostatics = body.compute_hydrostatics(rho = 1025.0)\n",
    "from capytaine.io.legacy import export_hydrostatics\n",
    "export_hydrostatics('static.dat', body)"
   ]
  }
 ],
 "metadata": {
  "kernelspec": {
   "display_name": "Python 3",
   "language": "python",
   "name": "python3"
  },
  "language_info": {
   "codemirror_mode": {
    "name": "ipython",
    "version": 3
   },
   "file_extension": ".py",
   "mimetype": "text/x-python",
   "name": "python",
   "nbconvert_exporter": "python",
   "pygments_lexer": "ipython3",
   "version": "3.9.5"
  }
 },
 "nbformat": 4,
 "nbformat_minor": 2
}
