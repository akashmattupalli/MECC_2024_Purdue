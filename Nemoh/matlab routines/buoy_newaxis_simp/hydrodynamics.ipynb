{
 "cells": [
  {
   "cell_type": "code",
   "execution_count": 5,
   "metadata": {},
   "outputs": [
    {
     "name": "stdout",
     "output_type": "stream",
     "text": [
      "Requirement already satisfied: capytaine in c:\\users\\akash\\appdata\\local\\programs\\python\\python39\\lib\\site-packages (2.0)\n",
      "Requirement already satisfied: xarray in c:\\users\\akash\\appdata\\local\\programs\\python\\python39\\lib\\site-packages (from capytaine) (2024.1.1)\n",
      "Requirement already satisfied: numpy in c:\\users\\akash\\appdata\\local\\programs\\python\\python39\\lib\\site-packages (from capytaine) (1.26.3)\n",
      "Requirement already satisfied: scipy in c:\\users\\akash\\appdata\\local\\programs\\python\\python39\\lib\\site-packages (from capytaine) (1.12.0)\n",
      "Requirement already satisfied: pandas>=1.3 in c:\\users\\akash\\appdata\\local\\programs\\python\\python39\\lib\\site-packages (from capytaine) (2.2.0)\n",
      "Requirement already satisfied: python-dateutil>=2.8.2 in c:\\users\\akash\\appdata\\roaming\\python\\python39\\site-packages (from pandas>=1.3->capytaine) (2.8.2)\n",
      "Requirement already satisfied: pytz>=2020.1 in c:\\users\\akash\\appdata\\local\\programs\\python\\python39\\lib\\site-packages (from pandas>=1.3->capytaine) (2023.4)\n",
      "Requirement already satisfied: tzdata>=2022.7 in c:\\users\\akash\\appdata\\local\\programs\\python\\python39\\lib\\site-packages (from pandas>=1.3->capytaine) (2023.4)\n",
      "Requirement already satisfied: six>=1.5 in c:\\users\\akash\\appdata\\roaming\\python\\python39\\site-packages (from python-dateutil>=2.8.2->pandas>=1.3->capytaine) (1.16.0)\n",
      "Requirement already satisfied: packaging>=22 in c:\\users\\akash\\appdata\\roaming\\python\\python39\\site-packages (from xarray->capytaine) (23.2)\n",
      "Note: you may need to restart the kernel to use updated packages.\n"
     ]
    },
    {
     "name": "stderr",
     "output_type": "stream",
     "text": [
      "WARNING: You are using pip version 21.1.1; however, version 24.0 is available.\n",
      "You should consider upgrading via the 'c:\\Users\\akash\\AppData\\Local\\Programs\\Python\\Python39\\python.exe -m pip install --upgrade pip' command.\n"
     ]
    }
   ],
   "source": [
    "pip install capytaine   "
   ]
  },
  {
   "cell_type": "code",
   "execution_count": 1,
   "metadata": {},
   "outputs": [],
   "source": [
    "import capytaine as cpt\n",
    "import logging\n",
    "import vtk\n",
    "import numpy as np \n",
    "logging.basicConfig(level=logging.INFO)"
   ]
  },
  {
   "cell_type": "code",
   "execution_count": 2,
   "metadata": {},
   "outputs": [
    {
     "ename": "OSError",
     "evalue": "file buoy.stl not found",
     "output_type": "error",
     "traceback": [
      "\u001b[1;31m---------------------------------------------------------------------------\u001b[0m",
      "\u001b[1;31mOSError\u001b[0m                                   Traceback (most recent call last)",
      "Cell \u001b[1;32mIn[2], line 1\u001b[0m\n\u001b[1;32m----> 1\u001b[0m mesh \u001b[38;5;241m=\u001b[39m \u001b[43mcpt\u001b[49m\u001b[38;5;241;43m.\u001b[39;49m\u001b[43mload_mesh\u001b[49m\u001b[43m(\u001b[49m\u001b[38;5;124;43m'\u001b[39;49m\u001b[38;5;124;43mbuoy.stl\u001b[39;49m\u001b[38;5;124;43m'\u001b[39;49m\u001b[43m)\u001b[49m\n\u001b[0;32m      2\u001b[0m \u001b[38;5;66;03m#mesh = meshio.read('rack spur rectangular_am_edit.stl')\u001b[39;00m\n\u001b[0;32m      3\u001b[0m \u001b[38;5;66;03m#mesh = cpt.mesh_vertical_cylinder(length=0.15, radius=0.05,center=(0, 0, 0.075),resolution=(6, 6, 8))\u001b[39;00m\n\u001b[0;32m      4\u001b[0m body \u001b[38;5;241m=\u001b[39m cpt\u001b[38;5;241m.\u001b[39mFloatingBody(mesh \u001b[38;5;241m=\u001b[39m mesh,\n\u001b[0;32m      5\u001b[0m                         dofs \u001b[38;5;241m=\u001b[39m cpt\u001b[38;5;241m.\u001b[39mrigid_body_dofs(rotation_center \u001b[38;5;241m=\u001b[39m (\u001b[38;5;241m0\u001b[39m, \u001b[38;5;241m0\u001b[39m, \u001b[38;5;241m0.075\u001b[39m)),\n\u001b[0;32m      6\u001b[0m                         center_of_mass \u001b[38;5;241m=\u001b[39m np\u001b[38;5;241m.\u001b[39marray([\u001b[38;5;241m0\u001b[39m, \u001b[38;5;241m0\u001b[39m, \u001b[38;5;241m0.075\u001b[39m]))\n",
      "File \u001b[1;32mc:\\Users\\akash\\AppData\\Local\\Programs\\Python\\Python39\\lib\\site-packages\\capytaine\\io\\mesh_loaders.py:47\u001b[0m, in \u001b[0;36mload_mesh\u001b[1;34m(filename, file_format, name)\u001b[0m\n\u001b[0;32m     29\u001b[0m \u001b[38;5;28;01mdef\u001b[39;00m \u001b[38;5;21mload_mesh\u001b[39m(filename, file_format\u001b[38;5;241m=\u001b[39m\u001b[38;5;28;01mNone\u001b[39;00m, name\u001b[38;5;241m=\u001b[39m\u001b[38;5;28;01mNone\u001b[39;00m):\n\u001b[0;32m     30\u001b[0m \u001b[38;5;250m    \u001b[39m\u001b[38;5;124;03m\"\"\"Driver function that loads every mesh file format known by meshmagick.\u001b[39;00m\n\u001b[0;32m     31\u001b[0m \u001b[38;5;124;03m    Dispatch to one of the other function depending on file_format.\u001b[39;00m\n\u001b[0;32m     32\u001b[0m \n\u001b[1;32m   (...)\u001b[0m\n\u001b[0;32m     45\u001b[0m \u001b[38;5;124;03m        the loaded mesh\u001b[39;00m\n\u001b[0;32m     46\u001b[0m \u001b[38;5;124;03m    \"\"\"\u001b[39;00m\n\u001b[1;32m---> 47\u001b[0m     \u001b[43m_check_file\u001b[49m\u001b[43m(\u001b[49m\u001b[43mfilename\u001b[49m\u001b[43m)\u001b[49m\n\u001b[0;32m     49\u001b[0m     \u001b[38;5;28;01mif\u001b[39;00m file_format \u001b[38;5;129;01mis\u001b[39;00m \u001b[38;5;28;01mNone\u001b[39;00m:\n\u001b[0;32m     50\u001b[0m         _, file_format \u001b[38;5;241m=\u001b[39m os\u001b[38;5;241m.\u001b[39mpath\u001b[38;5;241m.\u001b[39msplitext(filename)\n",
      "File \u001b[1;32mc:\\Users\\akash\\AppData\\Local\\Programs\\Python\\Python39\\lib\\site-packages\\capytaine\\io\\mesh_loaders.py:25\u001b[0m, in \u001b[0;36m_check_file\u001b[1;34m(filename, name)\u001b[0m\n\u001b[0;32m     23\u001b[0m \u001b[38;5;28;01mdef\u001b[39;00m \u001b[38;5;21m_check_file\u001b[39m(filename, name\u001b[38;5;241m=\u001b[39m\u001b[38;5;28;01mNone\u001b[39;00m):\n\u001b[0;32m     24\u001b[0m     \u001b[38;5;28;01mif\u001b[39;00m \u001b[38;5;129;01mnot\u001b[39;00m os\u001b[38;5;241m.\u001b[39mpath\u001b[38;5;241m.\u001b[39misfile(filename):\n\u001b[1;32m---> 25\u001b[0m         \u001b[38;5;28;01mraise\u001b[39;00m \u001b[38;5;167;01mIOError\u001b[39;00m(\u001b[38;5;124m\"\u001b[39m\u001b[38;5;124mfile \u001b[39m\u001b[38;5;132;01m%s\u001b[39;00m\u001b[38;5;124m not found\u001b[39m\u001b[38;5;124m\"\u001b[39m \u001b[38;5;241m%\u001b[39m filename)\n\u001b[0;32m     26\u001b[0m     \u001b[38;5;28;01mreturn\u001b[39;00m\n",
      "\u001b[1;31mOSError\u001b[0m: file buoy.stl not found"
     ]
    }
   ],
   "source": [
    "mesh = cpt.load_mesh('buoy.stl')\n",
    "#mesh = meshio.read('rack spur rectangular_am_edit.stl')\n",
    "#mesh = cpt.mesh_vertical_cylinder(length=0.15, radius=0.05,center=(0, 0, 0.075),resolution=(6, 6, 8))\n",
    "body = cpt.FloatingBody(mesh = mesh,\n",
    "                        dofs = cpt.rigid_body_dofs(rotation_center = (0, 0, 0.075)),\n",
    "                        center_of_mass = np.array([0, 0, 0.075]))\n",
    "\n",
    "#body.mesh.vertices = 1/1000 * body.mesh.vertices"
   ]
  },
  {
   "cell_type": "code",
   "execution_count": 3,
   "metadata": {},
   "outputs": [],
   "source": [
    "mesh.show()"
   ]
  },
  {
   "cell_type": "code",
   "execution_count": 4,
   "metadata": {},
   "outputs": [
    {
     "name": "stderr",
     "output_type": "stream",
     "text": [
      "INFO:capytaine.bodies.bodies:Clipping cylinder1.dat with respect to Plane(normal=[0. 0. 1.], point=[0. 0. 0.])\n",
      "INFO:capytaine.meshes.clipper:Clipping half_of_cylinder1.dat by Plane(normal=[0. 0. 1.], point=[0. 0. 0.]): no action.\n",
      "INFO:capytaine.meshes.clipper:Clipping mirrored_of_half_of_cylinder1.dat by Plane(normal=[0. 0. 1.], point=[0. 0. 0.]): no action.\n"
     ]
    }
   ],
   "source": [
    "hydrostatics = body.compute_hydrostatics(rho = 1025.0)\n",
    "from capytaine.io.legacy import export_hydrostatics\n",
    "export_hydrostatics('static.dat', body)\n"
   ]
  },
  {
   "cell_type": "code",
   "execution_count": 19,
   "metadata": {},
   "outputs": [],
   "source": [
    "from numpy import infty\n",
    "problem = cpt.RadiationProblem(body=body, radiating_dof=\"Heave\", g=9.81, rho=1025, period = 8.0)\n"
   ]
  },
  {
   "cell_type": "code",
   "execution_count": 20,
   "metadata": {},
   "outputs": [],
   "source": [
    "diffraction_problem = cpt.DiffractionProblem(body=body, wave_direction=np.pi/2, omega=1.0)"
   ]
  },
  {
   "cell_type": "code",
   "execution_count": 21,
   "metadata": {},
   "outputs": [
    {
     "name": "stderr",
     "output_type": "stream",
     "text": [
      "INFO:capytaine.bem.solver:Solve RadiationProblem(body=cylinder1.dat, period=8.000, water_depth=inf, radiating_dof='Heave', rho=1025.0).\n"
     ]
    }
   ],
   "source": [
    "solver = cpt.BEMSolver()\n",
    "result = solver.solve(problem)"
   ]
  },
  {
   "cell_type": "code",
   "execution_count": 22,
   "metadata": {},
   "outputs": [
    {
     "name": "stderr",
     "output_type": "stream",
     "text": [
      "INFO:capytaine.bem.solver:Solve DiffractionProblem(body=cylinder1.dat, omega=1.000, water_depth=inf, wave_direction=1.571).\n",
      "INFO:capytaine.bem.solver:Solve RadiationProblem(body=cylinder1.dat, omega=1.000, water_depth=inf, radiating_dof='Surge').\n",
      "INFO:capytaine.bem.solver:Solve RadiationProblem(body=cylinder1.dat, omega=1.000, water_depth=inf, radiating_dof='Sway').\n",
      "INFO:capytaine.bem.solver:Solve RadiationProblem(body=cylinder1.dat, omega=1.000, water_depth=inf, radiating_dof='Heave').\n",
      "INFO:capytaine.bem.solver:Solve RadiationProblem(body=cylinder1.dat, omega=1.000, water_depth=inf, radiating_dof='Roll').\n",
      "INFO:capytaine.bem.solver:Solve RadiationProblem(body=cylinder1.dat, omega=1.000, water_depth=inf, radiating_dof='Pitch').\n",
      "INFO:capytaine.bem.solver:Solve RadiationProblem(body=cylinder1.dat, omega=1.000, water_depth=inf, radiating_dof='Yaw').\n"
     ]
    }
   ],
   "source": [
    "all_radiation_problems = [cpt.RadiationProblem(body=body, radiating_dof=dof, omega=1.0) for dof in body.dofs]\n",
    "diffraction_result = solver.solve(diffraction_problem)\n",
    "all_radiation_results = solver.solve_all(all_radiation_problems)"
   ]
  },
  {
   "cell_type": "code",
   "execution_count": 10,
   "metadata": {},
   "outputs": [],
   "source": [
    "dataset = cpt.assemble_dataset([diffraction_result] + all_radiation_results)"
   ]
  },
  {
   "cell_type": "code",
   "execution_count": 11,
   "metadata": {},
   "outputs": [],
   "source": [
    "from capytaine.io.xarray import separate_complex_values\n",
    "separate_complex_values(dataset).to_netcdf(\"dataset.nc\")"
   ]
  }
 ],
 "metadata": {
  "kernelspec": {
   "display_name": "Python 3",
   "language": "python",
   "name": "python3"
  },
  "language_info": {
   "codemirror_mode": {
    "name": "ipython",
    "version": 3
   },
   "file_extension": ".py",
   "mimetype": "text/x-python",
   "name": "python",
   "nbconvert_exporter": "python",
   "pygments_lexer": "ipython3",
   "version": "3.9.5"
  }
 },
 "nbformat": 4,
 "nbformat_minor": 2
}
