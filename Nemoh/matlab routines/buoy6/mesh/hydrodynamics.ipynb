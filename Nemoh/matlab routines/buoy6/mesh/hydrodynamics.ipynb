{
 "cells": [
  {
   "cell_type": "code",
   "execution_count": 1,
   "metadata": {},
   "outputs": [
    {
     "name": "stdout",
     "output_type": "stream",
     "text": [
      "Requirement already satisfied: capytaine in c:\\users\\akash\\appdata\\local\\programs\\python\\python39\\lib\\site-packages (2.0)\n",
      "Requirement already satisfied: numpy in c:\\users\\akash\\appdata\\local\\programs\\python\\python39\\lib\\site-packages (from capytaine) (1.26.3)\n",
      "Requirement already satisfied: scipy in c:\\users\\akash\\appdata\\local\\programs\\python\\python39\\lib\\site-packages (from capytaine) (1.12.0)\n",
      "Requirement already satisfied: pandas>=1.3 in c:\\users\\akash\\appdata\\local\\programs\\python\\python39\\lib\\site-packages (from capytaine) (2.2.0)\n",
      "Requirement already satisfied: xarray in c:\\users\\akash\\appdata\\local\\programs\\python\\python39\\lib\\site-packages (from capytaine) (2024.1.1)\n",
      "Requirement already satisfied: tzdata>=2022.7 in c:\\users\\akash\\appdata\\local\\programs\\python\\python39\\lib\\site-packages (from pandas>=1.3->capytaine) (2023.4)\n",
      "Requirement already satisfied: pytz>=2020.1 in c:\\users\\akash\\appdata\\local\\programs\\python\\python39\\lib\\site-packages (from pandas>=1.3->capytaine) (2023.4)\n",
      "Requirement already satisfied: python-dateutil>=2.8.2 in c:\\users\\akash\\appdata\\roaming\\python\\python39\\site-packages (from pandas>=1.3->capytaine) (2.8.2)\n",
      "Requirement already satisfied: six>=1.5 in c:\\users\\akash\\appdata\\roaming\\python\\python39\\site-packages (from python-dateutil>=2.8.2->pandas>=1.3->capytaine) (1.16.0)\n",
      "Requirement already satisfied: packaging>=22 in c:\\users\\akash\\appdata\\roaming\\python\\python39\\site-packages (from xarray->capytaine) (23.2)\n",
      "Note: you may need to restart the kernel to use updated packages.\n"
     ]
    },
    {
     "name": "stderr",
     "output_type": "stream",
     "text": [
      "WARNING: You are using pip version 21.1.1; however, version 24.0 is available.\n",
      "You should consider upgrading via the 'c:\\Users\\akash\\AppData\\Local\\Programs\\Python\\Python39\\python.exe -m pip install --upgrade pip' command.\n"
     ]
    }
   ],
   "source": [
    "pip install capytaine   "
   ]
  },
  {
   "cell_type": "code",
   "execution_count": 2,
   "metadata": {},
   "outputs": [],
   "source": [
    "import capytaine as cpt\n",
    "import logging\n",
    "import vtk\n",
    "import numpy as np \n",
    "import xarray as xr\n",
    "logging.basicConfig(level=logging.INFO)"
   ]
  },
  {
   "cell_type": "code",
   "execution_count": 4,
   "metadata": {},
   "outputs": [
    {
     "name": "stderr",
     "output_type": "stream",
     "text": [
      "INFO:capytaine.bodies.bodies:New floating body: buoy6.dat.\n",
      "INFO:capytaine.bodies.bodies:Clipping buoy6.dat with respect to Plane(normal=[0. 0. 1.], point=[0. 0. 0.])\n",
      "INFO:capytaine.meshes.clipper:Clipping buoy6.dat_mesh by Plane(normal=[0. 0. 1.], point=[0. 0. 0.]): no action.\n",
      "INFO:capytaine.bodies.bodies:The rotation dof Roll has been initialized around the point: buoy6.dat.center_of_mass = (0, 0, 0)\n",
      "INFO:capytaine.bodies.bodies:The rotation dof Pitch has been initialized around the point: buoy6.dat.center_of_mass = (0, 0, 0)\n",
      "INFO:capytaine.bodies.bodies:The rotation dof Yaw has been initialized around the point: buoy6.dat.center_of_mass = (0, 0, 0)\n"
     ]
    }
   ],
   "source": [
    "body = cpt.FloatingBody.from_file('buoy6.dat')\n",
    "body.center_of_mass = (0,0,0)\n",
    "body.keep_immersed_part()\n",
    "body.add_all_rigid_body_dofs()"
   ]
  },
  {
   "cell_type": "code",
   "execution_count": 5,
   "metadata": {},
   "outputs": [],
   "source": [
    "body.show()"
   ]
  },
  {
   "cell_type": "code",
   "execution_count": 6,
   "metadata": {},
   "outputs": [
    {
     "name": "stderr",
     "output_type": "stream",
     "text": [
      "INFO:capytaine.bodies.bodies:Clipping buoy6.dat with respect to Plane(normal=[0. 0. 1.], point=[0. 0. 0.])\n",
      "INFO:capytaine.meshes.clipper:Clipping buoy6.dat_mesh by Plane(normal=[0. 0. 1.], point=[0. 0. 0.]): no action.\n",
      "WARNING:capytaine.io.legacy:Exporting problem in already existing directory: static.dat\n",
      "             You might be overwriting existing files!\n"
     ]
    }
   ],
   "source": [
    "hydrostatics = body.compute_hydrostatics(rho = 1025.0)\n",
    "from capytaine.io.legacy import export_hydrostatics\n",
    "export_hydrostatics('static.dat', body)"
   ]
  }
 ],
 "metadata": {
  "kernelspec": {
   "display_name": "Python 3",
   "language": "python",
   "name": "python3"
  },
  "language_info": {
   "codemirror_mode": {
    "name": "ipython",
    "version": 3
   },
   "file_extension": ".py",
   "mimetype": "text/x-python",
   "name": "python",
   "nbconvert_exporter": "python",
   "pygments_lexer": "ipython3",
   "version": "3.9.5"
  }
 },
 "nbformat": 4,
 "nbformat_minor": 2
}
